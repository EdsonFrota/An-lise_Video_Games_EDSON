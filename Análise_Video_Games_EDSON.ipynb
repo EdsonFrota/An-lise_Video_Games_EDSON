{
  "nbformat": 4,
  "nbformat_minor": 0,
  "metadata": {
    "colab": {
      "name": "Análise_Video_Games - EDSON.ipynb",
      "provenance": [],
      "collapsed_sections": [
        "VqhLWm_yG8Lx",
        "4qMCwcY9MpPe",
        "p3OyUQXTUKiZ",
        "f4KtZp_ZTbgK",
        "9eowNdia0kWK",
        "bjHMyKVw1SyK"
      ],
      "include_colab_link": true
    },
    "kernelspec": {
      "name": "python3",
      "display_name": "Python 3"
    }
  },
  "cells": [
    {
      "cell_type": "markdown",
      "metadata": {
        "id": "view-in-github",
        "colab_type": "text"
      },
      "source": [
        "<a href=\"https://colab.research.google.com/github/EdsonFrota/An-lise_Video_Games_EDSON/blob/main/An%C3%A1lise_Video_Games_EDSON.ipynb\" target=\"_parent\"><img src=\"https://colab.research.google.com/assets/colab-badge.svg\" alt=\"Open In Colab\"/></a>"
      ]
    },
    {
      "cell_type": "markdown",
      "metadata": {
        "id": "4qMCwcY9MpPe"
      },
      "source": [
        "## Análise das colunas\r\n",
        "\r\n",
        "Deve-se realizar uma verificação dos dados contidos em cada coluna do *dataset* a fim de notar se estes estão compatíveis. "
      ]
    },
    {
      "cell_type": "markdown",
      "metadata": {
        "id": "p3OyUQXTUKiZ"
      },
      "source": [
        "### ***'Global_Sales'***\r\n",
        "\r\n",
        "Coluna ***'Global_Sales'*** deve ser uma soma das colunas ***'NA_Sales'***, ***'EU_Sales'***, ***'JP_Sales'*** e ***'Other_Sales'***.\r\n",
        "\r\n",
        "$$ Global\\_Sales = NA\\_Sales + EU\\_Sales + JP\\_Sales + Other\\_Sales $$"
      ]
    },
    {
      "cell_type": "code",
      "metadata": {
        "id": "Vm7KfvctMan3"
      },
      "source": [
        "# mask for data filtering\r\n",
        "mask = vgsales['NA_Sales'] + vgsales['EU_Sales'] + vgsales['JP_Sales'] + vgsales['Other_Sales'] != vgsales['Global_Sales']"
      ],
      "execution_count": null,
      "outputs": []
    },
    {
      "cell_type": "code",
      "metadata": {
        "colab": {
          "base_uri": "https://localhost:8080/"
        },
        "id": "A7s2JMyBN-to",
        "outputId": "be903d95-76c0-4a00-853a-d9a0beaa0be7"
      },
      "source": [
        "# Percentage of columns with wrong values\r\n",
        "print ('{:.2f}% do dataset tem inconsistência na coluna \\'Global_Sales\\'.'.format((mask.sum() / len(vgsales.index)) * 100))"
      ],
      "execution_count": null,
      "outputs": [
        {
          "output_type": "stream",
          "text": [
            "40.80% do dataset tem inconsistência na coluna 'Global_Sales'.\n"
          ],
          "name": "stdout"
        }
      ]
    },
    {
      "cell_type": "markdown",
      "metadata": {
        "id": "FMS2pvBgP1cQ"
      },
      "source": [
        "Com isso, a coluna 'Global_Sales' deve ser atualizada para retirar tais inconsistências em seus valores. "
      ]
    },
    {
      "cell_type": "code",
      "metadata": {
        "id": "JLKmOkDgRcIm"
      },
      "source": [
        "# Global_Sales column update\r\n",
        "vgsales['Global_Sales'] = vgsales['NA_Sales'] + vgsales['EU_Sales'] + vgsales['JP_Sales'] + vgsales['Other_Sales']"
      ],
      "execution_count": null,
      "outputs": []
    },
    {
      "cell_type": "markdown",
      "metadata": {
        "id": "f4KtZp_ZTbgK"
      },
      "source": [
        "### ***'Year'***\r\n",
        "\r\n",
        "Precisa verificar os dados presentes na coluna ***'Year'***."
      ]
    },
    {
      "cell_type": "code",
      "metadata": {
        "colab": {
          "base_uri": "https://localhost:8080/"
        },
        "id": "cDS_s8ZDWCty",
        "outputId": "113263ff-d528-4d59-e1ea-96425946b3a2"
      },
      "source": [
        "# Checking every year of the column\r\n",
        "vgsales.Year.unique()"
      ],
      "execution_count": null,
      "outputs": [
        {
          "output_type": "execute_result",
          "data": {
            "text/plain": [
              "array([2006, 1985, 2008, 2009, 1996, 1989, 1984, 2005, 1999, 2007, 2010,\n",
              "       2013, 2004, 1990, 1988, 2002, 2001, 2011, 1998, 2015, 2012, 2014,\n",
              "       1992, 1997, 1993, 1994, 1982, 2003, 1986, 2000, 1995, 2016, 1991,\n",
              "       1981, 1987, 1980, 1983, 2020, 2017])"
            ]
          },
          "metadata": {
            "tags": []
          },
          "execution_count": 96
        }
      ]
    },
    {
      "cell_type": "markdown",
      "metadata": {
        "id": "f1ueu_E2bIMC"
      },
      "source": [
        "Diante disso, a coluna 'Year' não possui valores incoerentes."
      ]
    },
    {
      "cell_type": "markdown",
      "metadata": {
        "id": "9eowNdia0kWK"
      },
      "source": [
        "### 'Genre'\r\n",
        "\r\n",
        "Quais são os generos dos jogos?"
      ]
    },
    {
      "cell_type": "code",
      "metadata": {
        "colab": {
          "base_uri": "https://localhost:8080/"
        },
        "id": "TW0ND7Lt0rGR",
        "outputId": "c85c1578-3b75-4b34-e0e8-fe71c085c523"
      },
      "source": [
        "# Discovering game genres\r\n",
        "vgsales.Genre.unique()"
      ],
      "execution_count": null,
      "outputs": [
        {
          "output_type": "execute_result",
          "data": {
            "text/plain": [
              "array(['Sports', 'Platform', 'Racing', 'Role-Playing', 'Puzzle', 'Misc',\n",
              "       'Shooter', 'Simulation', 'Action', 'Fighting', 'Adventure',\n",
              "       'Strategy'], dtype=object)"
            ]
          },
          "metadata": {
            "tags": []
          },
          "execution_count": 95
        }
      ]
    },
    {
      "cell_type": "markdown",
      "metadata": {
        "id": "WDcdgW660-Kc"
      },
      "source": [
        "Os nomes estão coerentes, ou seja, não há um erro ortográfico. Logo não existe a necessidade de tratar está *feature*. "
      ]
    },
    {
      "cell_type": "markdown",
      "metadata": {
        "id": "bjHMyKVw1SyK"
      },
      "source": [
        "### 'Platform'\r\n",
        "\r\n",
        "Quais são as plataformas?"
      ]
    },
    {
      "cell_type": "code",
      "metadata": {
        "colab": {
          "base_uri": "https://localhost:8080/"
        },
        "id": "NnVgU6281aMA",
        "outputId": "fab7f2d2-d54b-4af1-f78d-a178a42a96d7"
      },
      "source": [
        "# Discovering every platform\r\n",
        "vgsales.Platform.unique()"
      ],
      "execution_count": null,
      "outputs": [
        {
          "output_type": "execute_result",
          "data": {
            "text/plain": [
              "array(['Wii', 'NES', 'GB', 'DS', 'X360', 'PS3', 'PS2', 'SNES', 'GBA',\n",
              "       '3DS', 'PS4', 'N64', 'PS', 'XB', 'PC', '2600', 'PSP', 'XOne', 'GC',\n",
              "       'WiiU', 'GEN', 'DC', 'PSV', 'SAT', 'SCD', 'WS', 'NG', 'TG16',\n",
              "       '3DO', 'GG', 'PCFX'], dtype=object)"
            ]
          },
          "metadata": {
            "tags": []
          },
          "execution_count": 97
        }
      ]
    },
    {
      "cell_type": "markdown",
      "metadata": {
        "id": "VqhLWm_yG8Lx"
      },
      "source": [
        "### Import Dataset - [Video Game Sales](https://www.kaggle.com/gregorut/videogamesales)"
      ]
    },
    {
      "cell_type": "code",
      "metadata": {
        "id": "QqI-f31jGY7_"
      },
      "source": [
        "# Import library pandas\r\n",
        "import pandas as pd\r\n",
        "\r\n",
        "# Reading the csv vgsales that contains the Video Game Sales DataFrame\r\n",
        "vgsales = pd.read_csv('vgsales.csv', index_col='Rank')"
      ],
      "execution_count": null,
      "outputs": []
    },
    {
      "cell_type": "markdown",
      "metadata": {
        "id": "1jBqiuRGHtm8"
      },
      "source": [
        "Em seguida, nota-se uma simples visualização das 5 (cinco) primeiras linhas do *dataset*."
      ]
    },
    {
      "cell_type": "code",
      "metadata": {
        "colab": {
          "base_uri": "https://localhost:8080/",
          "height": 228
        },
        "id": "aCv8Dg98H6mE",
        "outputId": "a5d75a91-5d9e-4937-fcd3-26cea67f3cb9"
      },
      "source": [
        "# Visualizing the 5 first rows\r\n",
        "vgsales.head()"
      ],
      "execution_count": null,
      "outputs": [
        {
          "output_type": "execute_result",
          "data": {
            "text/html": [
              "<div>\n",
              "<style scoped>\n",
              "    .dataframe tbody tr th:only-of-type {\n",
              "        vertical-align: middle;\n",
              "    }\n",
              "\n",
              "    .dataframe tbody tr th {\n",
              "        vertical-align: top;\n",
              "    }\n",
              "\n",
              "    .dataframe thead th {\n",
              "        text-align: right;\n",
              "    }\n",
              "</style>\n",
              "<table border=\"1\" class=\"dataframe\">\n",
              "  <thead>\n",
              "    <tr style=\"text-align: right;\">\n",
              "      <th></th>\n",
              "      <th>Name</th>\n",
              "      <th>Platform</th>\n",
              "      <th>Year</th>\n",
              "      <th>Genre</th>\n",
              "      <th>Publisher</th>\n",
              "      <th>NA_Sales</th>\n",
              "      <th>EU_Sales</th>\n",
              "      <th>JP_Sales</th>\n",
              "      <th>Other_Sales</th>\n",
              "      <th>Global_Sales</th>\n",
              "    </tr>\n",
              "    <tr>\n",
              "      <th>Rank</th>\n",
              "      <th></th>\n",
              "      <th></th>\n",
              "      <th></th>\n",
              "      <th></th>\n",
              "      <th></th>\n",
              "      <th></th>\n",
              "      <th></th>\n",
              "      <th></th>\n",
              "      <th></th>\n",
              "      <th></th>\n",
              "    </tr>\n",
              "  </thead>\n",
              "  <tbody>\n",
              "    <tr>\n",
              "      <th>1</th>\n",
              "      <td>Wii Sports</td>\n",
              "      <td>Wii</td>\n",
              "      <td>2006.0</td>\n",
              "      <td>Sports</td>\n",
              "      <td>Nintendo</td>\n",
              "      <td>41.49</td>\n",
              "      <td>29.02</td>\n",
              "      <td>3.77</td>\n",
              "      <td>8.46</td>\n",
              "      <td>82.74</td>\n",
              "    </tr>\n",
              "    <tr>\n",
              "      <th>2</th>\n",
              "      <td>Super Mario Bros.</td>\n",
              "      <td>NES</td>\n",
              "      <td>1985.0</td>\n",
              "      <td>Platform</td>\n",
              "      <td>Nintendo</td>\n",
              "      <td>29.08</td>\n",
              "      <td>3.58</td>\n",
              "      <td>6.81</td>\n",
              "      <td>0.77</td>\n",
              "      <td>40.24</td>\n",
              "    </tr>\n",
              "    <tr>\n",
              "      <th>3</th>\n",
              "      <td>Mario Kart Wii</td>\n",
              "      <td>Wii</td>\n",
              "      <td>2008.0</td>\n",
              "      <td>Racing</td>\n",
              "      <td>Nintendo</td>\n",
              "      <td>15.85</td>\n",
              "      <td>12.88</td>\n",
              "      <td>3.79</td>\n",
              "      <td>3.31</td>\n",
              "      <td>35.82</td>\n",
              "    </tr>\n",
              "    <tr>\n",
              "      <th>4</th>\n",
              "      <td>Wii Sports Resort</td>\n",
              "      <td>Wii</td>\n",
              "      <td>2009.0</td>\n",
              "      <td>Sports</td>\n",
              "      <td>Nintendo</td>\n",
              "      <td>15.75</td>\n",
              "      <td>11.01</td>\n",
              "      <td>3.28</td>\n",
              "      <td>2.96</td>\n",
              "      <td>33.00</td>\n",
              "    </tr>\n",
              "    <tr>\n",
              "      <th>5</th>\n",
              "      <td>Pokemon Red/Pokemon Blue</td>\n",
              "      <td>GB</td>\n",
              "      <td>1996.0</td>\n",
              "      <td>Role-Playing</td>\n",
              "      <td>Nintendo</td>\n",
              "      <td>11.27</td>\n",
              "      <td>8.89</td>\n",
              "      <td>10.22</td>\n",
              "      <td>1.00</td>\n",
              "      <td>31.37</td>\n",
              "    </tr>\n",
              "  </tbody>\n",
              "</table>\n",
              "</div>"
            ],
            "text/plain": [
              "                          Name Platform  ...  Other_Sales Global_Sales\n",
              "Rank                                     ...                          \n",
              "1                   Wii Sports      Wii  ...         8.46        82.74\n",
              "2            Super Mario Bros.      NES  ...         0.77        40.24\n",
              "3               Mario Kart Wii      Wii  ...         3.31        35.82\n",
              "4            Wii Sports Resort      Wii  ...         2.96        33.00\n",
              "5     Pokemon Red/Pokemon Blue       GB  ...         1.00        31.37\n",
              "\n",
              "[5 rows x 10 columns]"
            ]
          },
          "metadata": {
            "tags": []
          },
          "execution_count": 80
        }
      ]
    },
    {
      "cell_type": "markdown",
      "metadata": {
        "id": "WrkVEWJhIH2v"
      },
      "source": [
        "Além disso, para fins de análise posteriores, abaixo tem-se uma informação sobre cada coluna do *dataset*."
      ]
    },
    {
      "cell_type": "code",
      "metadata": {
        "colab": {
          "base_uri": "https://localhost:8080/"
        },
        "id": "C5HdgUN5IlWs",
        "outputId": "fa0d61e1-3f3a-4d4b-a6dd-d44615d347e7"
      },
      "source": [
        "# Column information\r\n",
        "vgsales.info()"
      ],
      "execution_count": null,
      "outputs": [
        {
          "output_type": "stream",
          "text": [
            "<class 'pandas.core.frame.DataFrame'>\n",
            "Int64Index: 16598 entries, 1 to 16600\n",
            "Data columns (total 10 columns):\n",
            " #   Column        Non-Null Count  Dtype  \n",
            "---  ------        --------------  -----  \n",
            " 0   Name          16598 non-null  object \n",
            " 1   Platform      16598 non-null  object \n",
            " 2   Year          16327 non-null  float64\n",
            " 3   Genre         16598 non-null  object \n",
            " 4   Publisher     16540 non-null  object \n",
            " 5   NA_Sales      16598 non-null  float64\n",
            " 6   EU_Sales      16598 non-null  float64\n",
            " 7   JP_Sales      16598 non-null  float64\n",
            " 8   Other_Sales   16598 non-null  float64\n",
            " 9   Global_Sales  16598 non-null  float64\n",
            "dtypes: float64(6), object(4)\n",
            "memory usage: 1.4+ MB\n"
          ],
          "name": "stdout"
        }
      ]
    },
    {
      "cell_type": "markdown",
      "metadata": {
        "id": "MSpv2Ts7Ix6y"
      },
      "source": [
        "A partir da visualização acima, nota-se que os tipos das variáveis são adequados para cada coluna, ou seja, colunas que são representadas por números estão representadas pelo tipo *float64* e colunas que possuem textos estão representadas pelo tipo *object*.\r\n",
        "\r\n",
        "No entanto, observa-se que há valores ausentes em certas colunas. Isso pode ser notado na tabela a seguir."
      ]
    },
    {
      "cell_type": "code",
      "metadata": {
        "colab": {
          "base_uri": "https://localhost:8080/"
        },
        "id": "pP551PPuJE7f",
        "outputId": "df5806c7-2111-4b8f-936c-c1ffc965e960"
      },
      "source": [
        "# Counting missing values in each column\r\n",
        "vgsales.isnull().sum()"
      ],
      "execution_count": null,
      "outputs": [
        {
          "output_type": "execute_result",
          "data": {
            "text/plain": [
              "Name              0\n",
              "Platform          0\n",
              "Year            271\n",
              "Genre             0\n",
              "Publisher        58\n",
              "NA_Sales          0\n",
              "EU_Sales          0\n",
              "JP_Sales          0\n",
              "Other_Sales       0\n",
              "Global_Sales      0\n",
              "dtype: int64"
            ]
          },
          "metadata": {
            "tags": []
          },
          "execution_count": 83
        }
      ]
    },
    {
      "cell_type": "markdown",
      "metadata": {
        "id": "nbCQCf0cKGMB"
      },
      "source": [
        "Temos 271 valores ausentes na coluna ***Year*** e 58 valores ausentes na coluna ***Publisher***. Como tais colunas necessitam de ter valores reais, ou seja, nenhum método, seja média, mediana, moda ou método de propagação de valores, não produziriam um preenchimento adequado dos dados. \r\n",
        "\r\n",
        "Com base nisto, existe duas possibilidades para a eliminação deste problema. A primeira possibilidade é a eliminação dos casos, ou seja, das linhas do *dataset*, que contém tais valores ausentes. A segunda possiblidade é a eliminação das colunas com valores ausentes.\r\n",
        "\r\n",
        "Dado que tais informações são cruciais para certas inferências procuradas neste *dataset*, os casos com valores faltosos seram retirados do *dataset*."
      ]
    },
    {
      "cell_type": "code",
      "metadata": {
        "id": "u6x1oiOGIm3A"
      },
      "source": [
        "# Removing rows with missing values\r\n",
        "vgsales.dropna(axis='rows', inplace=True)"
      ],
      "execution_count": null,
      "outputs": []
    },
    {
      "cell_type": "markdown",
      "metadata": {
        "id": "l0-hZ-CGgq-o"
      },
      "source": [
        "Por fim precisa arrumar o tipo da coluna ***'Year'***, modificando ela para inteiro."
      ]
    },
    {
      "cell_type": "code",
      "metadata": {
        "id": "psUIAn2agp3L"
      },
      "source": [
        "# Modifying Year to integer\r\n",
        "vgsales.Year = vgsales.Year.astype('int64')"
      ],
      "execution_count": null,
      "outputs": []
    },
    {
      "cell_type": "markdown",
      "metadata": {
        "id": "h7u1iaWbysuR"
      },
      "source": [
        "## Correlação das Features\r\n",
        "\r\n",
        "Utilizando do modulo *seaborn* será realizado a análise de correlação das features. "
      ]
    },
    {
      "cell_type": "code",
      "metadata": {
        "id": "iUH3-298y8JN"
      },
      "source": [
        "# Import library seaborn\r\n",
        "import seaborn as sns\r\n",
        "\r\n",
        "# Import module matplotlib.pyplot\r\n",
        "import matplotlib.pyplot as plt"
      ],
      "execution_count": null,
      "outputs": []
    },
    {
      "cell_type": "code",
      "metadata": {
        "colab": {
          "base_uri": "https://localhost:8080/",
          "height": 432
        },
        "id": "RAeeVhYWzDo8",
        "outputId": "a4a9ab1e-f00a-4155-82ab-f3602ee8400a"
      },
      "source": [
        "# Create a figure\r\n",
        "plt.figure(figsize=(8,6))\r\n",
        "\r\n",
        "# Build correlation map\r\n",
        "sns.heatmap(vgsales.corr(), annot=True)\r\n",
        "\r\n",
        "# Show the figure\r\n",
        "plt.show()"
      ],
      "execution_count": null,
      "outputs": [
        {
          "output_type": "display_data",
          "data": {
            "image/png": "[encoded data removed]",
            "text/plain": [
              "<Figure size 576x432 with 2 Axes>"
            ]
          },
          "metadata": {
            "tags": [],
            "needs_background": "light"
          }
        }
      ]
    },
    {
      "cell_type": "markdown",
      "metadata": {
        "id": "JrN6aq8Bz45t"
      },
      "source": [
        "Observa-se pelo mapa de correlação que o ano de lançamento do jogo não é uma variável determinante para o sucesso nas vendas deste. "
      ]
    },
    {
      "cell_type": "markdown",
      "metadata": {
        "id": "N_FqU6op49y9"
      },
      "source": [
        "## Qual **genero**, **publisher** e **plataforma** mais popular na América do Norte, na Europa e no Japão?"
      ]
    },
    {
      "cell_type": "code",
      "metadata": {
        "colab": {
          "base_uri": "https://localhost:8080/",
          "height": 835
        },
        "id": "1w-sPWtY5o8j",
        "outputId": "ff1a4693-d0b3-4610-f5e8-74a85659908e"
      },
      "source": [
        "# Define the regions\r\n",
        "regionals = ['NA_Sales', 'EU_Sales', 'JP_Sales']\r\n",
        "\r\n",
        "# Define the features\r\n",
        "features = ['Platform', 'Genre', 'Publisher']\r\n",
        "\r\n",
        "# Showing the most popular genre, publisher and platform of each region\r\n",
        "for i in regionals:\r\n",
        "  for j in features:\r\n",
        "    most_popular = vgsales.groupby(j)[i].sum().sort_values(ascending=False).head(1)\r\n",
        "    display(most_popular)\r\n",
        "    print('\\n')"
      ],
      "execution_count": null,
      "outputs": [
        {
          "output_type": "display_data",
          "data": {
            "text/plain": [
              "Platform\n",
              "X360    594.33\n",
              "Name: NA_Sales, dtype: float64"
            ]
          },
          "metadata": {
            "tags": []
          }
        },
        {
          "output_type": "stream",
          "text": [
            "\n",
            "\n"
          ],
          "name": "stdout"
        },
        {
          "output_type": "display_data",
          "data": {
            "text/plain": [
              "Genre\n",
              "Action    861.77\n",
              "Name: NA_Sales, dtype: float64"
            ]
          },
          "metadata": {
            "tags": []
          }
        },
        {
          "output_type": "stream",
          "text": [
            "\n",
            "\n"
          ],
          "name": "stdout"
        },
        {
          "output_type": "display_data",
          "data": {
            "text/plain": [
              "Publisher\n",
              "Nintendo    815.75\n",
              "Name: NA_Sales, dtype: float64"
            ]
          },
          "metadata": {
            "tags": []
          }
        },
        {
          "output_type": "stream",
          "text": [
            "\n",
            "\n"
          ],
          "name": "stdout"
        },
        {
          "output_type": "display_data",
          "data": {
            "text/plain": [
              "Platform\n",
              "PS3    340.47\n",
              "Name: EU_Sales, dtype: float64"
            ]
          },
          "metadata": {
            "tags": []
          }
        },
        {
          "output_type": "stream",
          "text": [
            "\n",
            "\n"
          ],
          "name": "stdout"
        },
        {
          "output_type": "display_data",
          "data": {
            "text/plain": [
              "Genre\n",
              "Action    516.48\n",
              "Name: EU_Sales, dtype: float64"
            ]
          },
          "metadata": {
            "tags": []
          }
        },
        {
          "output_type": "stream",
          "text": [
            "\n",
            "\n"
          ],
          "name": "stdout"
        },
        {
          "output_type": "display_data",
          "data": {
            "text/plain": [
              "Publisher\n",
              "Nintendo    418.3\n",
              "Name: EU_Sales, dtype: float64"
            ]
          },
          "metadata": {
            "tags": []
          }
        },
        {
          "output_type": "stream",
          "text": [
            "\n",
            "\n"
          ],
          "name": "stdout"
        },
        {
          "output_type": "display_data",
          "data": {
            "text/plain": [
              "Platform\n",
              "DS    175.02\n",
              "Name: JP_Sales, dtype: float64"
            ]
          },
          "metadata": {
            "tags": []
          }
        },
        {
          "output_type": "stream",
          "text": [
            "\n",
            "\n"
          ],
          "name": "stdout"
        },
        {
          "output_type": "display_data",
          "data": {
            "text/plain": [
              "Genre\n",
              "Role-Playing    350.29\n",
              "Name: JP_Sales, dtype: float64"
            ]
          },
          "metadata": {
            "tags": []
          }
        },
        {
          "output_type": "stream",
          "text": [
            "\n",
            "\n"
          ],
          "name": "stdout"
        },
        {
          "output_type": "display_data",
          "data": {
            "text/plain": [
              "Publisher\n",
              "Nintendo    454.99\n",
              "Name: JP_Sales, dtype: float64"
            ]
          },
          "metadata": {
            "tags": []
          }
        },
        {
          "output_type": "stream",
          "text": [
            "\n",
            "\n"
          ],
          "name": "stdout"
        }
      ]
    },
    {
      "cell_type": "markdown",
      "metadata": {
        "id": "_WciVeH96InX"
      },
      "source": [
        "**Nintendo** é a produtora que mais vende nas três regiões.\r\n",
        "\r\n",
        "**Ação** é o genero mais vendido na América do Norte e Europa, mas no Japão **Role-Playing** é mais famoso.\r\n",
        "\r\n",
        "Em relação a plataforma, nas três regiões as preferências são distintas."
      ]
    },
    {
      "cell_type": "markdown",
      "metadata": {
        "id": "BKsZSnQo6_KW"
      },
      "source": [
        "## Jogo mais popular em cada região?\r\n",
        "\r\n"
      ]
    },
    {
      "cell_type": "code",
      "metadata": {
        "colab": {
          "base_uri": "https://localhost:8080/",
          "height": 470
        },
        "id": "Wu_rfw9I7Igx",
        "outputId": "9fded441-e93b-4607-b019-c70c0b2f2f40"
      },
      "source": [
        "# Showing the most popular game in each region\r\n",
        "for i in regionals:\r\n",
        "    display(vgsales.sort_values(by=[i], ascending=False).head(3))"
      ],
      "execution_count": null,
      "outputs": [
        {
          "output_type": "display_data",
          "data": {
            "text/html": [
              "<div>\n",
              "<style scoped>\n",
              "    .dataframe tbody tr th:only-of-type {\n",
              "        vertical-align: middle;\n",
              "    }\n",
              "\n",
              "    .dataframe tbody tr th {\n",
              "        vertical-align: top;\n",
              "    }\n",
              "\n",
              "    .dataframe thead th {\n",
              "        text-align: right;\n",
              "    }\n",
              "</style>\n",
              "<table border=\"1\" class=\"dataframe\">\n",
              "  <thead>\n",
              "    <tr style=\"text-align: right;\">\n",
              "      <th></th>\n",
              "      <th>Name</th>\n",
              "      <th>Platform</th>\n",
              "      <th>Year</th>\n",
              "      <th>Genre</th>\n",
              "      <th>Publisher</th>\n",
              "      <th>NA_Sales</th>\n",
              "      <th>EU_Sales</th>\n",
              "      <th>JP_Sales</th>\n",
              "      <th>Other_Sales</th>\n",
              "      <th>Global_Sales</th>\n",
              "    </tr>\n",
              "    <tr>\n",
              "      <th>Rank</th>\n",
              "      <th></th>\n",
              "      <th></th>\n",
              "      <th></th>\n",
              "      <th></th>\n",
              "      <th></th>\n",
              "      <th></th>\n",
              "      <th></th>\n",
              "      <th></th>\n",
              "      <th></th>\n",
              "      <th></th>\n",
              "    </tr>\n",
              "  </thead>\n",
              "  <tbody>\n",
              "    <tr>\n",
              "      <th>1</th>\n",
              "      <td>Wii Sports</td>\n",
              "      <td>Wii</td>\n",
              "      <td>2006</td>\n",
              "      <td>Sports</td>\n",
              "      <td>Nintendo</td>\n",
              "      <td>41.49</td>\n",
              "      <td>29.02</td>\n",
              "      <td>3.77</td>\n",
              "      <td>8.46</td>\n",
              "      <td>82.74</td>\n",
              "    </tr>\n",
              "    <tr>\n",
              "      <th>2</th>\n",
              "      <td>Super Mario Bros.</td>\n",
              "      <td>NES</td>\n",
              "      <td>1985</td>\n",
              "      <td>Platform</td>\n",
              "      <td>Nintendo</td>\n",
              "      <td>29.08</td>\n",
              "      <td>3.58</td>\n",
              "      <td>6.81</td>\n",
              "      <td>0.77</td>\n",
              "      <td>40.24</td>\n",
              "    </tr>\n",
              "    <tr>\n",
              "      <th>10</th>\n",
              "      <td>Duck Hunt</td>\n",
              "      <td>NES</td>\n",
              "      <td>1984</td>\n",
              "      <td>Shooter</td>\n",
              "      <td>Nintendo</td>\n",
              "      <td>26.93</td>\n",
              "      <td>0.63</td>\n",
              "      <td>0.28</td>\n",
              "      <td>0.47</td>\n",
              "      <td>28.31</td>\n",
              "    </tr>\n",
              "  </tbody>\n",
              "</table>\n",
              "</div>"
            ],
            "text/plain": [
              "                   Name Platform  Year  ... JP_Sales Other_Sales  Global_Sales\n",
              "Rank                                    ...                                   \n",
              "1            Wii Sports      Wii  2006  ...     3.77        8.46         82.74\n",
              "2     Super Mario Bros.      NES  1985  ...     6.81        0.77         40.24\n",
              "10            Duck Hunt      NES  1984  ...     0.28        0.47         28.31\n",
              "\n",
              "[3 rows x 10 columns]"
            ]
          },
          "metadata": {
            "tags": []
          }
        },
        {
          "output_type": "display_data",
          "data": {
            "text/html": [
              "<div>\n",
              "<style scoped>\n",
              "    .dataframe tbody tr th:only-of-type {\n",
              "        vertical-align: middle;\n",
              "    }\n",
              "\n",
              "    .dataframe tbody tr th {\n",
              "        vertical-align: top;\n",
              "    }\n",
              "\n",
              "    .dataframe thead th {\n",
              "        text-align: right;\n",
              "    }\n",
              "</style>\n",
              "<table border=\"1\" class=\"dataframe\">\n",
              "  <thead>\n",
              "    <tr style=\"text-align: right;\">\n",
              "      <th></th>\n",
              "      <th>Name</th>\n",
              "      <th>Platform</th>\n",
              "      <th>Year</th>\n",
              "      <th>Genre</th>\n",
              "      <th>Publisher</th>\n",
              "      <th>NA_Sales</th>\n",
              "      <th>EU_Sales</th>\n",
              "      <th>JP_Sales</th>\n",
              "      <th>Other_Sales</th>\n",
              "      <th>Global_Sales</th>\n",
              "    </tr>\n",
              "    <tr>\n",
              "      <th>Rank</th>\n",
              "      <th></th>\n",
              "      <th></th>\n",
              "      <th></th>\n",
              "      <th></th>\n",
              "      <th></th>\n",
              "      <th></th>\n",
              "      <th></th>\n",
              "      <th></th>\n",
              "      <th></th>\n",
              "      <th></th>\n",
              "    </tr>\n",
              "  </thead>\n",
              "  <tbody>\n",
              "    <tr>\n",
              "      <th>1</th>\n",
              "      <td>Wii Sports</td>\n",
              "      <td>Wii</td>\n",
              "      <td>2006</td>\n",
              "      <td>Sports</td>\n",
              "      <td>Nintendo</td>\n",
              "      <td>41.49</td>\n",
              "      <td>29.02</td>\n",
              "      <td>3.77</td>\n",
              "      <td>8.46</td>\n",
              "      <td>82.74</td>\n",
              "    </tr>\n",
              "    <tr>\n",
              "      <th>3</th>\n",
              "      <td>Mario Kart Wii</td>\n",
              "      <td>Wii</td>\n",
              "      <td>2008</td>\n",
              "      <td>Racing</td>\n",
              "      <td>Nintendo</td>\n",
              "      <td>15.85</td>\n",
              "      <td>12.88</td>\n",
              "      <td>3.79</td>\n",
              "      <td>3.31</td>\n",
              "      <td>35.83</td>\n",
              "    </tr>\n",
              "    <tr>\n",
              "      <th>4</th>\n",
              "      <td>Wii Sports Resort</td>\n",
              "      <td>Wii</td>\n",
              "      <td>2009</td>\n",
              "      <td>Sports</td>\n",
              "      <td>Nintendo</td>\n",
              "      <td>15.75</td>\n",
              "      <td>11.01</td>\n",
              "      <td>3.28</td>\n",
              "      <td>2.96</td>\n",
              "      <td>33.00</td>\n",
              "    </tr>\n",
              "  </tbody>\n",
              "</table>\n",
              "</div>"
            ],
            "text/plain": [
              "                   Name Platform  Year  ... JP_Sales Other_Sales  Global_Sales\n",
              "Rank                                    ...                                   \n",
              "1            Wii Sports      Wii  2006  ...     3.77        8.46         82.74\n",
              "3        Mario Kart Wii      Wii  2008  ...     3.79        3.31         35.83\n",
              "4     Wii Sports Resort      Wii  2009  ...     3.28        2.96         33.00\n",
              "\n",
              "[3 rows x 10 columns]"
            ]
          },
          "metadata": {
            "tags": []
          }
        },
        {
          "output_type": "display_data",
          "data": {
            "text/html": [
              "<div>\n",
              "<style scoped>\n",
              "    .dataframe tbody tr th:only-of-type {\n",
              "        vertical-align: middle;\n",
              "    }\n",
              "\n",
              "    .dataframe tbody tr th {\n",
              "        vertical-align: top;\n",
              "    }\n",
              "\n",
              "    .dataframe thead th {\n",
              "        text-align: right;\n",
              "    }\n",
              "</style>\n",
              "<table border=\"1\" class=\"dataframe\">\n",
              "  <thead>\n",
              "    <tr style=\"text-align: right;\">\n",
              "      <th></th>\n",
              "      <th>Name</th>\n",
              "      <th>Platform</th>\n",
              "      <th>Year</th>\n",
              "      <th>Genre</th>\n",
              "      <th>Publisher</th>\n",
              "      <th>NA_Sales</th>\n",
              "      <th>EU_Sales</th>\n",
              "      <th>JP_Sales</th>\n",
              "      <th>Other_Sales</th>\n",
              "      <th>Global_Sales</th>\n",
              "    </tr>\n",
              "    <tr>\n",
              "      <th>Rank</th>\n",
              "      <th></th>\n",
              "      <th></th>\n",
              "      <th></th>\n",
              "      <th></th>\n",
              "      <th></th>\n",
              "      <th></th>\n",
              "      <th></th>\n",
              "      <th></th>\n",
              "      <th></th>\n",
              "      <th></th>\n",
              "    </tr>\n",
              "  </thead>\n",
              "  <tbody>\n",
              "    <tr>\n",
              "      <th>5</th>\n",
              "      <td>Pokemon Red/Pokemon Blue</td>\n",
              "      <td>GB</td>\n",
              "      <td>1996</td>\n",
              "      <td>Role-Playing</td>\n",
              "      <td>Nintendo</td>\n",
              "      <td>11.27</td>\n",
              "      <td>8.89</td>\n",
              "      <td>10.22</td>\n",
              "      <td>1.00</td>\n",
              "      <td>31.38</td>\n",
              "    </tr>\n",
              "    <tr>\n",
              "      <th>13</th>\n",
              "      <td>Pokemon Gold/Pokemon Silver</td>\n",
              "      <td>GB</td>\n",
              "      <td>1999</td>\n",
              "      <td>Role-Playing</td>\n",
              "      <td>Nintendo</td>\n",
              "      <td>9.00</td>\n",
              "      <td>6.18</td>\n",
              "      <td>7.20</td>\n",
              "      <td>0.71</td>\n",
              "      <td>23.09</td>\n",
              "    </tr>\n",
              "    <tr>\n",
              "      <th>2</th>\n",
              "      <td>Super Mario Bros.</td>\n",
              "      <td>NES</td>\n",
              "      <td>1985</td>\n",
              "      <td>Platform</td>\n",
              "      <td>Nintendo</td>\n",
              "      <td>29.08</td>\n",
              "      <td>3.58</td>\n",
              "      <td>6.81</td>\n",
              "      <td>0.77</td>\n",
              "      <td>40.24</td>\n",
              "    </tr>\n",
              "  </tbody>\n",
              "</table>\n",
              "</div>"
            ],
            "text/plain": [
              "                             Name Platform  ...  Other_Sales Global_Sales\n",
              "Rank                                        ...                          \n",
              "5        Pokemon Red/Pokemon Blue       GB  ...         1.00        31.38\n",
              "13    Pokemon Gold/Pokemon Silver       GB  ...         0.71        23.09\n",
              "2               Super Mario Bros.      NES  ...         0.77        40.24\n",
              "\n",
              "[3 rows x 10 columns]"
            ]
          },
          "metadata": {
            "tags": []
          }
        }
      ]
    },
    {
      "cell_type": "markdown",
      "metadata": {
        "id": "I0eSpp4G7T3s"
      },
      "source": [
        "*   América do Norte: Wii Sports, Super Mario Bros. e Duck Hunt;\r\n",
        "*   Europa: Wii Sports, Mario Kart Wii e Wii Sports Resort;\r\n",
        "*   Japão: Pokemon Red/Pokemon Blue, Pokemon Gold/Pokemon Silver e Super Mario Bros.\r\n",
        "\r\n"
      ]
    },
    {
      "cell_type": "markdown",
      "metadata": {
        "id": "rUoyTLUC7puZ"
      },
      "source": [
        "## Qual genero mais vendido em todo mundo?"
      ]
    },
    {
      "cell_type": "code",
      "metadata": {
        "colab": {
          "base_uri": "https://localhost:8080/",
          "height": 108
        },
        "id": "kpTDekge7zTt",
        "outputId": "36982232-08ed-4693-f520-ad9a1c3a0ffc"
      },
      "source": [
        "# Showing the best selling genre worldwide\r\n",
        "display(vgsales.groupby('Genre')['Global_Sales'].sum().sort_values(ascending=False).head(3))"
      ],
      "execution_count": null,
      "outputs": [
        {
          "output_type": "display_data",
          "data": {
            "text/plain": [
              "Genre\n",
              "Action     1721.82\n",
              "Sports     1308.84\n",
              "Shooter    1025.69\n",
              "Name: Global_Sales, dtype: float64"
            ]
          },
          "metadata": {
            "tags": []
          }
        }
      ]
    },
    {
      "cell_type": "markdown",
      "metadata": {
        "id": "ue9U-q_18nxW"
      },
      "source": [
        "Nota-se que o genero de **Ação** é o mais vendido em todo o mundo, seguido por ***Sports*** e ***Shooter***."
      ]
    },
    {
      "cell_type": "markdown",
      "metadata": {
        "id": "Osx5xTld8zEF"
      },
      "source": [
        "## Como é a tendência das vendas dos jogos diante do seu lançamento?"
      ]
    },
    {
      "cell_type": "code",
      "metadata": {
        "id": "61-vB-0B8yd4"
      },
      "source": [
        "# Grouping by year and adding their global sales\r\n",
        "year_groupby = vgsales.groupby('Year')['Global_Sales'].sum()"
      ],
      "execution_count": null,
      "outputs": []
    },
    {
      "cell_type": "code",
      "metadata": {
        "colab": {
          "base_uri": "https://localhost:8080/",
          "height": 663
        },
        "id": "92PukKap9uWS",
        "outputId": "43ee6c8c-e8a7-42d5-8b27-a6dadda8507f"
      },
      "source": [
        "# Create a figure\r\n",
        "plt.figure(figsize=(20,10))\r\n",
        "\r\n",
        "# Build a bar plot\r\n",
        "sns.barplot(year_groupby.index, year_groupby)\r\n",
        "\r\n",
        "# Labeling the axes\r\n",
        "plt.xlabel('Year')\r\n",
        "plt.ylabel('Global Sales')\r\n",
        "\r\n",
        "# Show the figure\r\n",
        "plt.show()"
      ],
      "execution_count": null,
      "outputs": [
        {
          "output_type": "stream",
          "text": [
            "/usr/local/lib/python3.6/dist-packages/seaborn/_decorators.py:43: FutureWarning: Pass the following variables as keyword args: x, y. From version 0.12, the only valid positional argument will be `data`, and passing other arguments without an explicit keyword will result in an error or misinterpretation.\n",
            "  FutureWarning\n"
          ],
          "name": "stderr"
        },
        {
          "output_type": "display_data",
          "data": {
            "image/png": "[encoded data removed]",
            "text/plain": [
              "<Figure size 1440x720 with 1 Axes>"
            ]
          },
          "metadata": {
            "tags": [],
            "needs_background": "light"
          }
        }
      ]
    },
    {
      "cell_type": "markdown",
      "metadata": {
        "id": "PX6AHzB9-9lj"
      },
      "source": [
        "Pode-se observar que os jogos lançados entre 2007 e 2010 possuem uma grande venda. Enquanto jogos lançados antes de 2000 não foram vendidos em grande quantidade. Além disso, nota-se que há uma redução na venda dos jogos mais recentes. "
      ]
    }
  ]
}